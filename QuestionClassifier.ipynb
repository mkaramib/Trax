{
  "nbformat": 4,
  "nbformat_minor": 0,
  "metadata": {
    "colab": {
      "name": "QuestionClassifier.ipynb",
      "provenance": [],
      "toc_visible": true,
      "authorship_tag": "ABX9TyMASAByGRwPOprcjTGnaqc8",
      "include_colab_link": true
    },
    "kernelspec": {
      "name": "python3",
      "display_name": "Python 3"
    }
  },
  "cells": [
    {
      "cell_type": "markdown",
      "metadata": {
        "id": "view-in-github",
        "colab_type": "text"
      },
      "source": [
        "<a href=\"https://colab.research.google.com/github/mkaramib/trax/blob/main/QuestionClassifier.ipynb\" target=\"_parent\"><img src=\"https://colab.research.google.com/assets/colab-badge.svg\" alt=\"Open In Colab\"/></a>"
      ]
    },
    {
      "cell_type": "markdown",
      "metadata": {
        "id": "pT5D9NVs7jp9"
      },
      "source": [
        "## Question Classification\r\n",
        "In this notebook, I will implement a question classifier using Trax deep learning framework. "
      ]
    },
    {
      "cell_type": "code",
      "metadata": {
        "id": "ykH9bNfx7iBh"
      },
      "source": [
        ""
      ],
      "execution_count": null,
      "outputs": []
    },
    {
      "cell_type": "markdown",
      "metadata": {
        "id": "hctu-A1i78ib"
      },
      "source": [
        "## Data Import\r\n",
        "In this section, all the training and testing questions are read.\r\n",
        "\r\n",
        "\r\n",
        "*   Train Data: contains 1000/2000/3000 questions in each file.\r\n",
        "*   Test Data: contains close to 500 questions to evaluate the trained model.\r\n",
        "\r\n",
        "# Question format\r\n",
        "In each file(train and test), each line contains a question which has the following format:\r\n",
        "\r\n",
        "\r\n",
        "> QuestionCategory: Question content.\r\n",
        "\r\n",
        "\r\n",
        "\r\n",
        "\r\n"
      ]
    },
    {
      "cell_type": "code",
      "metadata": {
        "id": "HUukXdvH80o0"
      },
      "source": [
        "train_f = open(\"./questions/train_1000.label\", mode='r',encoding=\"ISO-8859-1\")\r\n",
        "test_f = open(\"./questions/TREC_10.label\", mode='r', encoding=\"ISO-8859-1\")\r\n",
        "lines = train_f.readlines()"
      ],
      "execution_count": null,
      "outputs": []
    }
  ]
}